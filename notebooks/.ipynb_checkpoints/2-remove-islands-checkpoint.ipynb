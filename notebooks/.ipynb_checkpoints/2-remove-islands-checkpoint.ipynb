{
 "cells": [
  {
   "cell_type": "code",
   "execution_count": 6,
   "id": "ac7640a5-5719-4bb5-9c01-fd1508c39527",
   "metadata": {
    "tags": []
   },
   "outputs": [],
   "source": [
    "from gerrychain import Graph\n",
    "import geopandas as gpd"
   ]
  },
  {
   "cell_type": "code",
   "execution_count": 4,
   "id": "3728ce88-fa41-465a-9382-b032ef39d449",
   "metadata": {
    "tags": []
   },
   "outputs": [],
   "source": [
    "# read in our final dataframe parquet to a geodataframe\n",
    "gdf = gpd.read_parquet('./data/blk/final.parquet')"
   ]
  },
  {
   "cell_type": "code",
   "execution_count": 7,
   "id": "c02e9bbc-2f68-4e7e-963c-7f72dfa3dbba",
   "metadata": {
    "tags": []
   },
   "outputs": [
    {
     "name": "stderr",
     "output_type": "stream",
     "text": [
      "/opt/anaconda3/envs/gerrychain/lib/python3.10/site-packages/gerrychain/graph/adjacency.py:21: ShapelyDeprecationWarning: Setting custom attributes on geometry objects is deprecated, and will raise an AttributeError in Shapely 2.0\n",
      "  geometries[i].id = i\n",
      "/opt/anaconda3/envs/gerrychain/lib/python3.10/site-packages/gerrychain/graph/adjacency.py:23: ShapelyDeprecationWarning: STRtree will be changed in 2.0.0 and will not be compatible with versions < 2.\n",
      "  tree = STRtree(geometries)\n"
     ]
    }
   ],
   "source": [
    "# build graph from geodataframe, can take a while\n",
    "graph = Graph.from_geodataframe(gdf)"
   ]
  },
  {
   "cell_type": "code",
   "execution_count": 8,
   "id": "69c51642-fcec-48ac-873c-12453d7f953f",
   "metadata": {
    "tags": []
   },
   "outputs": [
    {
     "data": {
      "text/plain": [
       "False"
      ]
     },
     "execution_count": 8,
     "metadata": {},
     "output_type": "execute_result"
    }
   ],
   "source": [
    "# check if the graph is connected\n",
    "# must be connected to run gerrychain\n",
    "# california has islands, so it is not connected\n",
    "import networkx as nx\n",
    "nx.is_connected(graph)"
   ]
  },
  {
   "cell_type": "code",
   "execution_count": 9,
   "id": "6a3f8d2d-ccdc-4fdc-88b5-2479598ac180",
   "metadata": {
    "tags": []
   },
   "outputs": [
    {
     "data": {
      "text/plain": [
       "[519554, 81, 25, 3, 50, 3, 7]"
      ]
     },
     "execution_count": 9,
     "metadata": {},
     "output_type": "execute_result"
    }
   ],
   "source": [
    "# check for connected/unconnected nodes\n",
    "from networkx import is_connected, connected_components\n",
    "components = list(connected_components(graph))\n",
    "[len(c) for c in components]"
   ]
  },
  {
   "cell_type": "code",
   "execution_count": 10,
   "id": "5f29b573-88bf-45c6-af83-9067fb6ab976",
   "metadata": {
    "tags": []
   },
   "outputs": [],
   "source": [
    "# delete islands/unconnected nodes\n",
    "# need to change to connect islands instead, this works for now\n",
    "biggest_component_size = max(len(c) for c in components)\n",
    "problem_components = [c for c in components if len(c) != biggest_component_size]\n",
    "for component in problem_components:\n",
    "     for node in component:\n",
    "         graph.remove_node(node)"
   ]
  },
  {
   "cell_type": "code",
   "execution_count": 11,
   "id": "90ef12b1-ad1e-4434-b6e7-19fd2f644201",
   "metadata": {
    "tags": []
   },
   "outputs": [],
   "source": [
    "# save graph as json to run gerrychain later\n",
    "graph.to_json(\"ca_graph_islands_removed.json\")"
   ]
  }
 ],
 "metadata": {
  "kernelspec": {
   "display_name": "Python 3 (ipykernel)",
   "language": "python",
   "name": "python3"
  },
  "language_info": {
   "codemirror_mode": {
    "name": "ipython",
    "version": 3
   },
   "file_extension": ".py",
   "mimetype": "text/x-python",
   "name": "python",
   "nbconvert_exporter": "python",
   "pygments_lexer": "ipython3",
   "version": "3.10.9"
  }
 },
 "nbformat": 4,
 "nbformat_minor": 5
}
